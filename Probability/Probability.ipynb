{
 "cells": [
  {
   "cell_type": "code",
   "execution_count": 42,
   "metadata": {},
   "outputs": [
    {
     "name": "stdout",
     "output_type": "stream",
     "text": [
      "Probabilility of the word password in email list is 0.14814814814814814\n"
     ]
    },
    {
     "ename": "TypeError",
     "evalue": "can only concatenate str (not \"int\") to str",
     "output_type": "error",
     "traceback": [
      "\u001b[0;31m---------------------------------------------------------------------------\u001b[0m",
      "\u001b[0;31mTypeError\u001b[0m                                 Traceback (most recent call last)",
      "\u001b[0;32m<ipython-input-42-8966ff396088>\u001b[0m in \u001b[0;36m<module>\u001b[0;34m\u001b[0m\n\u001b[1;32m     28\u001b[0m \u001b[0mspam_probabilility_of_password\u001b[0m \u001b[0;34m=\u001b[0m \u001b[0mnumber_of_times_the_word_password_appear_in_email\u001b[0m \u001b[0;34m/\u001b[0m  \u001b[0mtotal_words_in_email_count\u001b[0m\u001b[0;34m\u001b[0m\u001b[0;34m\u001b[0m\u001b[0m\n\u001b[1;32m     29\u001b[0m \u001b[0mprint\u001b[0m\u001b[0;34m(\u001b[0m\u001b[0;34m\"Probabilility of the word\"\u001b[0m \u001b[0;34m+\u001b[0m \u001b[0;34m\" \"\u001b[0m \u001b[0;34m+\u001b[0m \u001b[0mkeyWord\u001b[0m \u001b[0;34m+\u001b[0m \u001b[0;34m\" in email list is\"\u001b[0m \u001b[0;34m+\u001b[0m \u001b[0;34m\" \"\u001b[0m \u001b[0;34m+\u001b[0m \u001b[0mstr\u001b[0m\u001b[0;34m(\u001b[0m\u001b[0mspam_probabilility_of_password\u001b[0m\u001b[0;34m)\u001b[0m\u001b[0;34m)\u001b[0m\u001b[0;34m\u001b[0m\u001b[0;34m\u001b[0m\u001b[0m\n\u001b[0;32m---> 30\u001b[0;31m \u001b[0mprint\u001b[0m\u001b[0;34m(\u001b[0m\u001b[0;34m\"Frequency of password in spam email is\"\u001b[0m \u001b[0;34m+\u001b[0m \u001b[0;34m\" \"\u001b[0m \u001b[0;34m+\u001b[0m \u001b[0mnumber_of_times_the_word_password_appear_in_email\u001b[0m\u001b[0;34m)\u001b[0m\u001b[0;34m\u001b[0m\u001b[0;34m\u001b[0m\u001b[0m\n\u001b[0m\u001b[1;32m     31\u001b[0m \u001b[0;34m\u001b[0m\u001b[0m\n\u001b[1;32m     32\u001b[0m \u001b[0;34m\u001b[0m\u001b[0m\n",
      "\u001b[0;31mTypeError\u001b[0m: can only concatenate str (not \"int\") to str"
     ]
    }
   ],
   "source": [
    "spam_emails = [\"Send us your password\", \"Review us\", \"send your password\", \"send us your accunt\", \"log in with password\", \"send user name and email\", \"reset password free\", \"free email\"]\n",
    "spam_word_that_appeared_in_email = dict()\n",
    "keyWord = \"password\"\n",
    "\n",
    "\n",
    "#Brute force method\n",
    "def checking_for_spam_email(spamEmails):\n",
    "    # Looking of list of emails\n",
    "    for email in spamEmails:\n",
    "        # spliting each word into it's own index in a diction \n",
    "        for word in email.split(' '):\n",
    "            # at this point spam_word_that_appeared_in_email is a empty dict before run time\n",
    "            if word in spam_word_that_appeared_in_email:\n",
    "                # if split word is in dict increment it by one\n",
    "                spam_word_that_appeared_in_email[word] += 1\n",
    "            else:\n",
    "                # if split word first time appearing, set that word to one\n",
    "                spam_word_that_appeared_in_email[word] = 1\n",
    "    # printing how many times \n",
    "#     print(spam_word_that_appeared_in_email)\n",
    "        \n",
    "    \n",
    "checking_for_spam_email(spam_emails)\n",
    "# remeber dict are key value pair\n",
    "number_of_times_the_word_password_appear_in_email =  spam_word_that_appeared_in_email[\"password\"]\n",
    "total_words_in_email_count = sum(spam_word_that_appeared_in_email.values())\n",
    "# probability is equal to the number of password, divide by total word in email list.\n",
    "spam_probabilility_of_password = number_of_times_the_word_password_appear_in_email /  total_words_in_email_count \n",
    "print(\"Probabilility of the word\" + \" \" + keyWord + \" in email list is\" + \" \" + str(spam_probabilility_of_password))\n",
    "print(\"Frequency of password in spam email is\" + \" \" + str(number_of_times_the_word_password_appear_in_email))\n",
    "\n",
    "\n"
   ]
  },
  {
   "cell_type": "markdown",
   "metadata": {},
   "source": []
  }
 ],
 "metadata": {
  "kernelspec": {
   "display_name": "Python 3",
   "language": "python",
   "name": "python3"
  },
  "language_info": {
   "codemirror_mode": {
    "name": "ipython",
    "version": 3
   },
   "file_extension": ".py",
   "mimetype": "text/x-python",
   "name": "python",
   "nbconvert_exporter": "python",
   "pygments_lexer": "ipython3",
   "version": "3.7.3"
  }
 },
 "nbformat": 4,
 "nbformat_minor": 4
}
