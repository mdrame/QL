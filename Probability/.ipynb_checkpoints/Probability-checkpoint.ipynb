{
 "cells": [
  {
   "cell_type": "code",
   "execution_count": 57,
   "metadata": {},
   "outputs": [
    {
     "name": "stdout",
     "output_type": "stream",
     "text": [
      "Probabilility of the word password in email list is 0.14814814814814814\n",
      "Frequency of password in spam email is 4 ‼️\n"
     ]
    }
   ],
   "source": [
    "spam_emails = [\"Send us your password\", \"Review us\", \"send your password\", \"send us your accunt\", \"log in with password\", \"send user name and email\", \"reset password free\", \"free email\"]\n",
    "spam_word_that_appeared_in_email = dict()\n",
    "keyWord = \"password\"\n",
    "\n",
    "\n",
    "#Brute force method\n",
    "def checking_for_spam_email(spamEmails):\n",
    "    # Looking of list of emails\n",
    "    for email in spamEmails:\n",
    "        # spliting each word into it's own index in a diction \n",
    "        for word in email.split(' '):\n",
    "            # at this point spam_word_that_appeared_in_email is a empty dict before run time\n",
    "            if word in spam_word_that_appeared_in_email:\n",
    "                # if split word is in dict increment it by one\n",
    "                spam_word_that_appeared_in_email[word] += 1\n",
    "            else:\n",
    "                # if split word first time appearing, set that word to one\n",
    "                spam_word_that_appeared_in_email[word] = 1\n",
    "    # printing how many times \n",
    "#     print(spam_word_that_appeared_in_email)\n",
    "        \n",
    "    \n",
    "checking_for_spam_email(spam_emails)\n",
    "# remeber dict are key value pair\n",
    "number_of_times_the_word_password_appear_in_email =  spam_word_that_appeared_in_email[\"password\"]\n",
    "total_words_in_email_count = sum(spam_word_that_appeared_in_email.values())\n",
    "# probability is equal to the number of password, divide by total word in email list.\n",
    "spam_probabilility_of_password = number_of_times_the_word_password_appear_in_email /  total_words_in_email_count \n",
    "print(\"Probabilility of the word\" + \" \" + keyWord + \" in email list is\" + \" \" + str(spam_probabilility_of_password))\n",
    "print(\"Frequency of password in spam email is\" + \" \" + str(number_of_times_the_word_password_appear_in_email) + \" ‼️\")\n",
    "\n",
    "\n"
   ]
  },
  {
   "cell_type": "code",
   "execution_count": 56,
   "metadata": {},
   "outputs": [
    {
     "name": "stdout",
     "output_type": "stream",
     "text": [
      "Probabilility of the word password in email list is 0.15384615384615385\n",
      "Frequency of password in spam email is 2 ‼️\n"
     ]
    }
   ],
   "source": [
    "ham_email = { \"password\": 2, \"review\": 1, \"send\": 3, \"us\": 3, \"your\": 3, \"account\": 1 }\n",
    "\n",
    "p_password_given_ham = ham_email[\"password\"]/sum(ham_email.values())\n",
    "frequency = ham_email[\"password\"]\n",
    "print(\"Probabilility of the word password in email list is\" + \" \" + str(p_password_given_ham))\n",
    "print(\"Frequency of password in spam email is\" + \" \" + str(frequency) + \" ‼️\")\n",
    "\n"
   ]
  },
  {
   "cell_type": "code",
   "execution_count": 61,
   "metadata": {},
   "outputs": [
    {
     "name": "stdout",
     "output_type": "stream",
     "text": [
      "The probability of this email being spam is 0.06896551724137931\n"
     ]
    }
   ],
   "source": [
    "p_spam = 4/6\n",
    "p_ham = 2/6 # Hard coded keyword frquency\n",
    "\n",
    "p_password = spam_probabilility_of_password*p_spam + number_of_times_the_word_password_appear_in_email*p_ham \n",
    "# print(p_password)\n",
    "p_spam_given_password = spam_probabilility_of_password*p_spam/p_password\n",
    "print(\"The probability of this email being spam is \" + str(p_spam_given_password))"
   ]
  },
  {
   "cell_type": "code",
   "execution_count": 81,
   "metadata": {},
   "outputs": [
    {
     "ename": "AttributeError",
     "evalue": "'int' object has no attribute 'key'",
     "output_type": "error",
     "traceback": [
      "\u001b[0;31m---------------------------------------------------------------------------\u001b[0m",
      "\u001b[0;31mAttributeError\u001b[0m                            Traceback (most recent call last)",
      "\u001b[0;32m<ipython-input-81-e3a71381e5db>\u001b[0m in \u001b[0;36m<module>\u001b[0;34m\u001b[0m\n\u001b[1;32m     26\u001b[0m     \u001b[0mprobability_word_for_ham\u001b[0m \u001b[0;34m=\u001b[0m \u001b[0mham\u001b[0m\u001b[0;34m[\u001b[0m\u001b[0mi\u001b[0m\u001b[0;34m]\u001b[0m\u001b[0;34m/\u001b[0m\u001b[0msum\u001b[0m\u001b[0;34m(\u001b[0m\u001b[0mspam\u001b[0m\u001b[0;34m.\u001b[0m\u001b[0mvalues\u001b[0m\u001b[0;34m(\u001b[0m\u001b[0;34m)\u001b[0m\u001b[0;34m)\u001b[0m\u001b[0;34m\u001b[0m\u001b[0;34m\u001b[0m\u001b[0m\n\u001b[1;32m     27\u001b[0m \u001b[0;34m\u001b[0m\u001b[0m\n\u001b[0;32m---> 28\u001b[0;31m     \u001b[0mprint\u001b[0m\u001b[0;34m(\u001b[0m\u001b[0;34m\"The probability that the email be spam after seeing the word\"\u001b[0m \u001b[0;34m+\u001b[0m \u001b[0mstr\u001b[0m\u001b[0;34m(\u001b[0m\u001b[0mspam\u001b[0m\u001b[0;34m[\u001b[0m\u001b[0mi\u001b[0m\u001b[0;34m]\u001b[0m\u001b[0;34m.\u001b[0m\u001b[0mkey\u001b[0m\u001b[0;34m)\u001b[0m  \u001b[0;34m+\u001b[0m \u001b[0;34m\"in the email is \"\u001b[0m \u001b[0;34m+\u001b[0m \u001b[0mstr\u001b[0m\u001b[0;34m(\u001b[0m\u001b[0mprobability_word_for_spam\u001b[0m\u001b[0;34m)\u001b[0m \u001b[0;34m)\u001b[0m\u001b[0;34m\u001b[0m\u001b[0;34m\u001b[0m\u001b[0m\n\u001b[0m\u001b[1;32m     29\u001b[0m     \u001b[0mprint\u001b[0m\u001b[0;34m(\u001b[0m\u001b[0;34m\"The probability that the email be ham after seeing the word \"\u001b[0m\u001b[0;34m+\u001b[0m \u001b[0;34m'ham[i] '\u001b[0m \u001b[0;34m+\u001b[0m \u001b[0;34m\"in the email is \"\u001b[0m \u001b[0;34m+\u001b[0m \u001b[0mstr\u001b[0m\u001b[0;34m(\u001b[0m\u001b[0mprobability_word_for_ham\u001b[0m\u001b[0;34m)\u001b[0m \u001b[0;34m+\u001b[0m \u001b[0;34m\"\\n\"\u001b[0m\u001b[0;34m)\u001b[0m\u001b[0;34m\u001b[0m\u001b[0;34m\u001b[0m\u001b[0m\n\u001b[1;32m     30\u001b[0m \u001b[0;34m\u001b[0m\u001b[0m\n",
      "\u001b[0;31mAttributeError\u001b[0m: 'int' object has no attribute 'key'"
     ]
    }
   ],
   "source": [
    "spam = {\n",
    "    \"password\": 2,\n",
    "    \"review\": 1,\n",
    "    \"send\": 3,\n",
    "    \"us\": 3,\n",
    "    \"your\": 3,\n",
    "    \"account\": 1\n",
    "}\n",
    "\n",
    "ham = {\n",
    "    \"password\": 1,\n",
    "    \"review\": 2,\n",
    "    \"send\": 1,\n",
    "    \"us\": 1,\n",
    "    \"your\": 2,\n",
    "    \"account\": 0\n",
    "}\n",
    "# p_spam = 4/6\n",
    "p_ham = 2/6\n",
    "# print(p_ham)\n",
    "p_spam = sum(spam_word_that_appeared_in_email.values())\n",
    "# print(p_spam)\n",
    "\n",
    "for i in spam:\n",
    "    probability_word_for_spam = spam[i]/sum(spam.values())\n",
    "    probability_word_for_ham = ham[i]/sum(spam.values())\n",
    "    \n",
    "    print(\"The probability that the email be spam after seeing the word\" + str(spam[i].key)  + \"in the email is \" + str(probability_word_for_spam) )\n",
    "    print(\"The probability that the email be ham after seeing the word \"+ 'ham[i] ' + \"in the email is \" + str(probability_word_for_ham) + \"\\n\")\n",
    "    \n",
    "    "
   ]
  },
  {
   "cell_type": "code",
   "execution_count": null,
   "metadata": {},
   "outputs": [],
   "source": []
  }
 ],
 "metadata": {
  "kernelspec": {
   "display_name": "Python 3",
   "language": "python",
   "name": "python3"
  },
  "language_info": {
   "codemirror_mode": {
    "name": "ipython",
    "version": 3
   },
   "file_extension": ".py",
   "mimetype": "text/x-python",
   "name": "python",
   "nbconvert_exporter": "python",
   "pygments_lexer": "ipython3",
   "version": "3.7.3"
  }
 },
 "nbformat": 4,
 "nbformat_minor": 4
}
