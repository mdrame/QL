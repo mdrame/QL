{
 "cells": [
  {
   "cell_type": "code",
   "execution_count": 20,
   "metadata": {},
   "outputs": [
    {
     "name": "stdout",
     "output_type": "stream",
     "text": [
      "Send us your password\n",
      "Review us\n",
      "send your password\n",
      "send us your accunt\n"
     ]
    }
   ],
   "source": [
    "spam_emails = [\"Send us your password\", \"Review us\", \"send your password\", \"send us your accunt\"]\n",
    "spam_word_that_appeared_in_email = dict()\n",
    "\n",
    "#Brute force method\n",
    "def checking_for_spam_email(spamEmails):\n",
    "    # Looking of list of emails\n",
    "    for email in spamEmails:\n",
    "        for word in email.split(' '):\n",
    "            if email in spam_word_that_appeared_in_email:\n",
    "                spam_word_that_appeared_in_email[email] += 1\n",
    "            else:\n",
    "                spam_word_that_appeared_in_email[email] = 1\n",
    "        \n",
    "        \n",
    "    \n",
    "checking_for_spam_email(spam_emails)"
   ]
  },
  {
   "cell_type": "markdown",
   "metadata": {},
   "source": []
  }
 ],
 "metadata": {
  "kernelspec": {
   "display_name": "Python 3",
   "language": "python",
   "name": "python3"
  },
  "language_info": {
   "codemirror_mode": {
    "name": "ipython",
    "version": 3
   },
   "file_extension": ".py",
   "mimetype": "text/x-python",
   "name": "python",
   "nbconvert_exporter": "python",
   "pygments_lexer": "ipython3",
   "version": "3.7.3"
  }
 },
 "nbformat": 4,
 "nbformat_minor": 4
}
